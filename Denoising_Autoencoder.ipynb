{
  "nbformat": 4,
  "nbformat_minor": 0,
  "metadata": {
    "colab": {
      "name": "autoencoder.ipynb",
      "version": "0.3.2",
      "provenance": [],
      "collapsed_sections": [],
      "toc_visible": true
    },
    "kernelspec": {
      "name": "python3",
      "display_name": "Python 3"
    },
    "accelerator": "GPU"
  },
  "cells": [
    {
      "cell_type": "markdown",
      "metadata": {
        "id": "RZ3sFQmDWP3Q",
        "colab_type": "text"
      },
      "source": [
        "This note book runs on Google's colab, with simple modification one can also run it lacally."
      ]
    },
    {
      "cell_type": "markdown",
      "metadata": {
        "id": "T0hx5YHYVUH6",
        "colab_type": "text"
      },
      "source": [
        "## Download data"
      ]
    },
    {
      "cell_type": "code",
      "metadata": {
        "id": "Woj4e0-vI9cZ",
        "colab_type": "code",
        "colab": {}
      },
      "source": [
        "!mkdir data && cd data && wget http://files.grouplens.org/datasets/movielens/ml-1m.zip && unzip ml-1m.zip"
      ],
      "execution_count": 0,
      "outputs": []
    },
    {
      "cell_type": "code",
      "metadata": {
        "id": "QdEtgVcaI9TQ",
        "colab_type": "code",
        "colab": {}
      },
      "source": [
        "!cd data && wget http://files.grouplens.org/datasets/movielens/ml-20m.zip && unzip ml-20m.zip"
      ],
      "execution_count": 0,
      "outputs": []
    },
    {
      "cell_type": "markdown",
      "metadata": {
        "id": "t-b-P35rVgDs",
        "colab_type": "text"
      },
      "source": [
        "Here we use tensorflow 2.0 which has some nice features, including Metric class."
      ]
    },
    {
      "cell_type": "code",
      "metadata": {
        "id": "LErhDphT4Jkw",
        "colab_type": "code",
        "colab": {}
      },
      "source": [
        "!pip install -q tensorflow-gpu==2.0.0-beta1"
      ],
      "execution_count": 0,
      "outputs": []
    },
    {
      "cell_type": "code",
      "metadata": {
        "id": "qdnUJBu1-ici",
        "colab_type": "code",
        "colab": {}
      },
      "source": [
        "import tensorflow as tf\n",
        "import tensorflow.keras as kr\n",
        "import matplotlib.pyplot as plt\n",
        "import pandas as pd\n",
        "import numpy as np"
      ],
      "execution_count": 0,
      "outputs": []
    },
    {
      "cell_type": "code",
      "metadata": {
        "id": "L1iuj9dWs2z2",
        "colab_type": "code",
        "outputId": "e1cd1d4e-ca1c-47ef-c551-851272166ae6",
        "colab": {
          "base_uri": "https://localhost:8080/",
          "height": 34
        }
      },
      "source": [
        "print(\"GPU Available: \", tf.test.is_gpu_available())"
      ],
      "execution_count": 5,
      "outputs": [
        {
          "output_type": "stream",
          "text": [
            "GPU Available:  True\n"
          ],
          "name": "stdout"
        }
      ]
    },
    {
      "cell_type": "code",
      "metadata": {
        "id": "eeuxzEXUsHAY",
        "colab_type": "code",
        "outputId": "5267b08d-bc56-4363-dd88-7c1b9eddcc88",
        "colab": {
          "base_uri": "https://localhost:8080/",
          "height": 34
        }
      },
      "source": [
        "tf.__version__"
      ],
      "execution_count": 6,
      "outputs": [
        {
          "output_type": "execute_result",
          "data": {
            "text/plain": [
              "'2.0.0-beta1'"
            ]
          },
          "metadata": {
            "tags": []
          },
          "execution_count": 6
        }
      ]
    },
    {
      "cell_type": "markdown",
      "metadata": {
        "id": "oVGLq4t2-icl",
        "colab_type": "text"
      },
      "source": [
        "## ml-1m data"
      ]
    },
    {
      "cell_type": "code",
      "metadata": {
        "id": "3nTucTEy-icm",
        "colab_type": "code",
        "colab": {}
      },
      "source": [
        "ratings = pd.read_csv('./data/ml-1m/ratings.dat', delimiter='::', names=['userId', 'movieId', 'rating', 'timeStamp'])\n",
        "num_user = ratings.userId.nunique()\n",
        "num_movie = ratings.movieId.nunique()"
      ],
      "execution_count": 0,
      "outputs": []
    },
    {
      "cell_type": "markdown",
      "metadata": {
        "id": "Mp-8p-pc-ico",
        "colab_type": "text"
      },
      "source": [
        "### construct rating matrix"
      ]
    },
    {
      "cell_type": "markdown",
      "metadata": {
        "id": "hn7OLl3GItrV",
        "colab_type": "text"
      },
      "source": [
        "Some users or movies may not in the ratings. We need to create a dict to map the col/row to the real userId and movieId"
      ]
    },
    {
      "cell_type": "code",
      "metadata": {
        "id": "vdkV8hES-icp",
        "colab_type": "code",
        "colab": {}
      },
      "source": [
        "user_dict = {}\n",
        "movie_dict = {}\n",
        "n_mapped_user = 0\n",
        "n_mapped_movie = 0\n",
        "R = np.zeros((num_user, num_movie))\n",
        "for index, row in ratings.iterrows():\n",
        "  if row.userId in user_dict:\n",
        "    user_cur = user_dict[row.userId]\n",
        "  else:\n",
        "    user_cur = n_mapped_user\n",
        "    n_mapped_user += 1\n",
        "    user_dict[row.userId] = user_cur\n",
        "  if row.movieId in movie_dict:\n",
        "    movie_cur = movie_dict[row.movieId]\n",
        "  else:\n",
        "    movie_cur = n_mapped_movie\n",
        "    n_mapped_movie += 1\n",
        "    movie_dict[row.movieId] = movie_cur\n",
        "  R[user_cur, movie_cur] = row.rating"
      ],
      "execution_count": 0,
      "outputs": []
    },
    {
      "cell_type": "markdown",
      "metadata": {
        "id": "3PIzznzJ-icr",
        "colab_type": "text"
      },
      "source": [
        "### train-test split"
      ]
    },
    {
      "cell_type": "code",
      "metadata": {
        "id": "jSu1gXzz-ics",
        "colab_type": "code",
        "colab": {}
      },
      "source": [
        "from sklearn.model_selection import train_test_split"
      ],
      "execution_count": 0,
      "outputs": []
    },
    {
      "cell_type": "code",
      "metadata": {
        "id": "P74R1cKH-icu",
        "colab_type": "code",
        "colab": {}
      },
      "source": [
        "R_train, R_test = train_test_split(R, test_size=0.1)"
      ],
      "execution_count": 0,
      "outputs": []
    },
    {
      "cell_type": "markdown",
      "metadata": {
        "id": "F4Z5x-SN-icw",
        "colab_type": "text"
      },
      "source": [
        "## Loss and metrics function"
      ]
    },
    {
      "cell_type": "code",
      "metadata": {
        "id": "ohTgSrrz-icx",
        "colab_type": "code",
        "colab": {}
      },
      "source": [
        "def simple_loss(y_true, y_pred):\n",
        "    err_sq = tf.square(y_true - y_pred)\n",
        "    is_rated = tf.cast(tf.not_equal(y_true, 0.0), y_true.dtype)\n",
        "    return tf.reduce_sum(err_sq*is_rated, axis=-1)/tf.reduce_sum(is_rated, axis=-1)"
      ],
      "execution_count": 0,
      "outputs": []
    },
    {
      "cell_type": "code",
      "metadata": {
        "id": "ONu4Q4Zy9deb",
        "colab_type": "code",
        "colab": {}
      },
      "source": [
        "# need tensorflow 2.0\n",
        "class SimpleMetric(kr.metrics.Metric):\n",
        "    def __init__(self, **kwargs):\n",
        "        super().__init__(**kwargs)\n",
        "        self.total = self.add_weight('total', initializer='zeros')\n",
        "        self.count = self.add_weight('count', initializer='zeros')\n",
        "    def update_state(self, y_true, y_pred, sample_weight=None):\n",
        "        err_sq = tf.square(y_true - y_pred)\n",
        "        is_rated = tf.cast(tf.not_equal(y_true, 0.0), y_true.dtype)\n",
        "        self.total.assign_add(tf.reduce_sum(err_sq*is_rated))\n",
        "        self.count.assign_add(tf.reduce_sum(is_rated))\n",
        "    def result(self):\n",
        "        return tf.sqrt(self.total/self.count)"
      ],
      "execution_count": 0,
      "outputs": []
    },
    {
      "cell_type": "markdown",
      "metadata": {
        "id": "n1BOS3Ad-ic2",
        "colab_type": "text"
      },
      "source": [
        "## Simple autoencoder"
      ]
    },
    {
      "cell_type": "code",
      "metadata": {
        "id": "bbXtsx-k-ic3",
        "colab_type": "code",
        "colab": {}
      },
      "source": [
        "input_ = kr.layers.Input(shape=R.shape[1:])\n",
        "hidden1 = kr.layers.Dense(600, activation='relu', kernel_regularizer=kr.regularizers.l2(0.001))(input_)\n",
        "hidden2 = kr.layers.Dense(128, activation='relu', kernel_regularizer=kr.regularizers.l2(0.001))(hidden1)\n",
        "hidden3 = kr.layers.Dense(600, activation='relu', kernel_regularizer=kr.regularizers.l2(0.001))(hidden2)\n",
        "output_ = kr.layers.Dense(R.shape[1], kernel_regularizer=kr.regularizers.l2(0.01))(hidden3)\n",
        "model = kr.Model(inputs=[input_], outputs=[output_])"
      ],
      "execution_count": 0,
      "outputs": []
    },
    {
      "cell_type": "code",
      "metadata": {
        "id": "49h3u02A-ic6",
        "colab_type": "code",
        "colab": {}
      },
      "source": [
        "model.compile(loss=simple_loss, optimizer='adam', metrics=[SimpleMetric(name='rmse')])"
      ],
      "execution_count": 0,
      "outputs": []
    },
    {
      "cell_type": "code",
      "metadata": {
        "id": "2kQJv_rM-ic8",
        "colab_type": "code",
        "colab": {}
      },
      "source": [
        "model.fit(R_train, R_train, validation_data=(R_test, R_test), epochs=100, callbacks=[kr.callbacks.EarlyStopping(monitor='val_loss', patience=3)])"
      ],
      "execution_count": 0,
      "outputs": []
    },
    {
      "cell_type": "markdown",
      "metadata": {
        "id": "18AZCflv-idA",
        "colab_type": "text"
      },
      "source": [
        "### evaluate on train and test set"
      ]
    },
    {
      "cell_type": "code",
      "metadata": {
        "id": "D9P-UyWR-idA",
        "colab_type": "code",
        "outputId": "db64a4c3-8fb9-450b-d1f1-14ffd37ea856",
        "colab": {
          "base_uri": "https://localhost:8080/",
          "height": 51
        }
      },
      "source": [
        "model.evaluate(R_train, R_train)"
      ],
      "execution_count": 0,
      "outputs": [
        {
          "output_type": "stream",
          "text": [
            "5436/5436 [==============================] - 1s 129us/sample - loss: 0.9871 - rmse: 0.9170\n"
          ],
          "name": "stdout"
        },
        {
          "output_type": "execute_result",
          "data": {
            "text/plain": [
              "[0.9870903274432274, 0.9170124]"
            ]
          },
          "metadata": {
            "tags": []
          },
          "execution_count": 16
        }
      ]
    },
    {
      "cell_type": "code",
      "metadata": {
        "id": "sxBfLXGp-idD",
        "colab_type": "code",
        "outputId": "d0ff7fd5-417c-4e33-eb76-b18aa4bc31f3",
        "colab": {
          "base_uri": "https://localhost:8080/",
          "height": 51
        }
      },
      "source": [
        "model.evaluate(R_test, R_test)"
      ],
      "execution_count": 0,
      "outputs": [
        {
          "output_type": "stream",
          "text": [
            "604/604 [==============================] - 0s 147us/sample - loss: 1.1796 - rmse: 0.9866\n"
          ],
          "name": "stdout"
        },
        {
          "output_type": "execute_result",
          "data": {
            "text/plain": [
              "[1.1796246782833377, 0.9865769]"
            ]
          },
          "metadata": {
            "tags": []
          },
          "execution_count": 17
        }
      ]
    },
    {
      "cell_type": "markdown",
      "metadata": {
        "id": "-wZODTfT-idG",
        "colab_type": "text"
      },
      "source": [
        "## Denoising autoencoder"
      ]
    },
    {
      "cell_type": "code",
      "metadata": {
        "id": "X02ASttf-idG",
        "colab_type": "code",
        "colab": {}
      },
      "source": [
        "input_ = kr.layers.Input(shape=R.shape[1:])\n",
        "dropout = kr.layers.Dropout(0.025)(input_)\n",
        "hidden1 = kr.layers.Dense(600, activation='relu', kernel_regularizer=kr.regularizers.l2(0.001))(dropout)\n",
        "hidden2 = kr.layers.Dense(128, activation='relu', kernel_regularizer=kr.regularizers.l2(0.001))(hidden1)\n",
        "hidden3 = kr.layers.Dense(600, activation='relu', kernel_regularizer=kr.regularizers.l2(0.001))(hidden2)\n",
        "output_ = kr.layers.Dense(R.shape[1], kernel_regularizer=kr.regularizers.l2(0.001))(hidden3)\n",
        "model_dae = kr.Model(inputs=[input_], outputs=[output_])"
      ],
      "execution_count": 0,
      "outputs": []
    },
    {
      "cell_type": "code",
      "metadata": {
        "id": "8XJGzDLo-idI",
        "colab_type": "code",
        "colab": {}
      },
      "source": [
        "model_dae.compile(loss=simple_loss, optimizer='adam', metrics=[SimpleMetric(name='rmse')])"
      ],
      "execution_count": 0,
      "outputs": []
    },
    {
      "cell_type": "code",
      "metadata": {
        "id": "dMf_a3gi-idK",
        "colab_type": "code",
        "colab": {}
      },
      "source": [
        "model_dae.fit(R_train, R_train, validation_data=(R_test, R_test), epochs=100, callbacks=[kr.callbacks.EarlyStopping(monitor='val_loss', patience=3)])"
      ],
      "execution_count": 0,
      "outputs": []
    },
    {
      "cell_type": "markdown",
      "metadata": {
        "id": "38GkAtj1-idM",
        "colab_type": "text"
      },
      "source": [
        "### evaluate on train and test set"
      ]
    },
    {
      "cell_type": "code",
      "metadata": {
        "id": "KF47ghCS-idN",
        "colab_type": "code",
        "outputId": "885b34b5-baed-4a8c-9e6a-7943b53ea18d",
        "colab": {
          "base_uri": "https://localhost:8080/",
          "height": 51
        }
      },
      "source": [
        "model_dae.evaluate(R_train, R_train)"
      ],
      "execution_count": 0,
      "outputs": [
        {
          "output_type": "stream",
          "text": [
            "5436/5436 [==============================] - 1s 132us/sample - loss: 0.9302 - rmse: 0.8868\n"
          ],
          "name": "stdout"
        },
        {
          "output_type": "execute_result",
          "data": {
            "text/plain": [
              "[0.9301822196919748, 0.8867864]"
            ]
          },
          "metadata": {
            "tags": []
          },
          "execution_count": 21
        }
      ]
    },
    {
      "cell_type": "code",
      "metadata": {
        "id": "SuqkeEpB-idQ",
        "colab_type": "code",
        "outputId": "b359c1c3-0f30-4ea8-c1fc-a006b2de9b30",
        "colab": {
          "base_uri": "https://localhost:8080/",
          "height": 51
        }
      },
      "source": [
        "model_dae.evaluate(R_test, R_test)"
      ],
      "execution_count": 0,
      "outputs": [
        {
          "output_type": "stream",
          "text": [
            "604/604 [==============================] - 0s 149us/sample - loss: 1.1588 - rmse: 0.9633\n"
          ],
          "name": "stdout"
        },
        {
          "output_type": "execute_result",
          "data": {
            "text/plain": [
              "[1.1587914165282092, 0.963341]"
            ]
          },
          "metadata": {
            "tags": []
          },
          "execution_count": 22
        }
      ]
    },
    {
      "cell_type": "markdown",
      "metadata": {
        "id": "HVeHt1p1-idT",
        "colab_type": "text"
      },
      "source": [
        "## ml-20m data"
      ]
    },
    {
      "cell_type": "markdown",
      "metadata": {
        "id": "puYJTz-hNvtP",
        "colab_type": "text"
      },
      "source": [
        "This data set is too large to create a numpy ratings matrix"
      ]
    },
    {
      "cell_type": "code",
      "metadata": {
        "id": "31h57iSL-idU",
        "colab_type": "code",
        "colab": {}
      },
      "source": [
        "ratings = pd.read_csv('./data/ml-20m/ratings.csv', delimiter=',')\n",
        "num_user = ratings.userId.nunique()\n",
        "num_movie = ratings.movieId.nunique()"
      ],
      "execution_count": 0,
      "outputs": []
    },
    {
      "cell_type": "markdown",
      "metadata": {
        "id": "1WRhO36yhhe7",
        "colab_type": "text"
      },
      "source": [
        "### convert to tfrecord format"
      ]
    },
    {
      "cell_type": "code",
      "metadata": {
        "id": "M3vyLA6L7sXh",
        "colab_type": "code",
        "colab": {}
      },
      "source": [
        "ratings.sort_values('userId', inplace=True)"
      ],
      "execution_count": 0,
      "outputs": []
    },
    {
      "cell_type": "markdown",
      "metadata": {
        "id": "4LshIL-bV2aS",
        "colab_type": "text"
      },
      "source": [
        "Convert the large dataset into tfrecord format"
      ]
    },
    {
      "cell_type": "code",
      "metadata": {
        "id": "gzh_-pJN-idZ",
        "colab_type": "code",
        "colab": {}
      },
      "source": [
        "movie_dict = {}\n",
        "n_mapped_user = 0\n",
        "n_mapped_movie = 0\n",
        "users_per_file = 1000\n",
        "counter = 0\n",
        "n_files = 1\n",
        "cur_data = []\n",
        "rate_array = None\n",
        "user_cur = 0\n",
        "f = tf.io.TFRecordWriter('./data/ml-20m/ratings_'+str(n_files)+'.tfrecord')\n",
        "for index, row in ratings.iterrows():\n",
        "  if row.userId != user_cur:\n",
        "    if rate_array is not None:\n",
        "      example = tf.train.Example(features=tf.train.Features(feature={'movie_ratings': tf.train.Feature(float_list=tf.train.FloatList(value=rate_array))}))\n",
        "      f.write(example.SerializeToString())\n",
        "    if counter == users_per_file:\n",
        "      counter = 0\n",
        "      print('{} record saved!'.format(n_files))\n",
        "      f.close()\n",
        "      n_files += 1\n",
        "      f = tf.io.TFRecordWriter('./data/ml-20m/ratings_'+str(n_files)+'.tfrecord')\n",
        "    counter += 1\n",
        "    rate_array = np.zeros(num_movie)\n",
        "    user_cur = row.userId\n",
        "  if row.movieId in movie_dict:\n",
        "    movie_cur = movie_dict[row.movieId]\n",
        "  else:\n",
        "    movie_cur = n_mapped_movie\n",
        "    n_mapped_movie += 1\n",
        "    movie_dict[row.movieId] = movie_cur\n",
        "  rate_array[movie_cur] = row.rating\n",
        "print('{} record saved!'.format(n_files))\n",
        "f.close()"
      ],
      "execution_count": 0,
      "outputs": []
    },
    {
      "cell_type": "markdown",
      "metadata": {
        "id": "Tw_2EeP9V-ct",
        "colab_type": "text"
      },
      "source": [
        "save the one-to-one map between index and movieId"
      ]
    },
    {
      "cell_type": "code",
      "metadata": {
        "id": "vGZIvaLJ9PHV",
        "colab_type": "code",
        "colab": {}
      },
      "source": [
        "import pickle\n",
        "with open(\"./data/ml-20m/movie_map.pkl\",\"wb\") as f:\n",
        "  pickle.dump(movie_dict, f)"
      ],
      "execution_count": 0,
      "outputs": []
    },
    {
      "cell_type": "markdown",
      "metadata": {
        "id": "17kaY2g9WI6R",
        "colab_type": "text"
      },
      "source": [
        "Save to google drive"
      ]
    },
    {
      "cell_type": "code",
      "metadata": {
        "id": "jK7-HY3gYL1B",
        "colab_type": "code",
        "colab": {}
      },
      "source": [
        "!pip install -U -q PyDrive"
      ],
      "execution_count": 0,
      "outputs": []
    },
    {
      "cell_type": "code",
      "metadata": {
        "id": "QQuoywqZYBJk",
        "colab_type": "code",
        "colab": {}
      },
      "source": [
        "!git clone https://gist.github.com/dc7e60aa487430ea704a8cb3f2c5d6a6.git /tmp/colab_util_repo\n",
        "!mv /tmp/colab_util_repo/colab_util.py colab_util.py \n",
        "!rm -r /tmp/colab_util_repo\n",
        "from colab_util import *\n",
        "import glob"
      ],
      "execution_count": 0,
      "outputs": []
    },
    {
      "cell_type": "code",
      "metadata": {
        "id": "iD2Ywt8--osj",
        "colab_type": "code",
        "colab": {}
      },
      "source": [
        "drive_handler = GoogleDriveHandler()"
      ],
      "execution_count": 0,
      "outputs": []
    },
    {
      "cell_type": "code",
      "metadata": {
        "id": "Ovs6lVieX5_I",
        "colab_type": "code",
        "colab": {}
      },
      "source": [
        "data_files = glob.glob('./data/ml-20m/ratings_*')\n",
        "tar_file_path = create_archive('data_archive', local_file_paths=data_files, verbose=True)\n",
        "drive_handler.upload(tar_file_path, parent_path='ml_data')"
      ],
      "execution_count": 0,
      "outputs": []
    },
    {
      "cell_type": "code",
      "metadata": {
        "id": "MhmOIxJVMpg0",
        "colab_type": "code",
        "colab": {}
      },
      "source": [
        "drive_handler.upload('./data/ml-20m/movie_map.pkl', parent_path='ml_data')"
      ],
      "execution_count": 0,
      "outputs": []
    },
    {
      "cell_type": "markdown",
      "metadata": {
        "id": "6j4gxx0DHBI5",
        "colab_type": "text"
      },
      "source": [
        "### Read tfrecord files"
      ]
    },
    {
      "cell_type": "code",
      "metadata": {
        "id": "q_K6-K-O3CKa",
        "colab_type": "code",
        "colab": {}
      },
      "source": [
        "data_files = glob.glob('./data/ml-20m/ratings_*')"
      ],
      "execution_count": 0,
      "outputs": []
    },
    {
      "cell_type": "code",
      "metadata": {
        "id": "rFrjvF7zbaIG",
        "colab_type": "code",
        "colab": {}
      },
      "source": [
        "train_set = data_files[:len(data_files)-10]\n",
        "test_set = data_files[len(data_files)-10:]"
      ],
      "execution_count": 0,
      "outputs": []
    },
    {
      "cell_type": "code",
      "metadata": {
        "id": "iOrL4HydcGv7",
        "colab_type": "code",
        "colab": {}
      },
      "source": [
        "R_train = tf.data.TFRecordDataset(train_set)\n",
        "R_test = tf.data.TFRecordDataset(test_set)"
      ],
      "execution_count": 0,
      "outputs": []
    },
    {
      "cell_type": "code",
      "metadata": {
        "id": "7xRfwQfFcGta",
        "colab_type": "code",
        "colab": {}
      },
      "source": [
        "def parse(serialized):\n",
        "  features={'movie_ratings':tf.io.FixedLenFeature([num_movie], tf.float32), }\n",
        "  parsed_example=tf.io.parse_single_example(serialized, features=features)\n",
        "  movie_ratings = tf.cast(parsed_example['movie_ratings'], tf.float32)\n",
        "  return movie_ratings, movie_ratings"
      ],
      "execution_count": 0,
      "outputs": []
    },
    {
      "cell_type": "code",
      "metadata": {
        "id": "-5vYHOmhcGq-",
        "colab_type": "code",
        "colab": {}
      },
      "source": [
        "R_train = R_train.map(parse)\n",
        "R_test = R_test.map(parse)\n",
        "R_train = R_train.shuffle(100)\n",
        "R_test = R_test.shuffle(100)\n",
        "R_train = R_train.batch(32).prefetch(1)\n",
        "R_test = R_test.batch(32).prefetch(1)"
      ],
      "execution_count": 0,
      "outputs": []
    },
    {
      "cell_type": "markdown",
      "metadata": {
        "id": "wks_cWiSIGcx",
        "colab_type": "text"
      },
      "source": [
        "### simple model"
      ]
    },
    {
      "cell_type": "code",
      "metadata": {
        "id": "ergXsw-wfxLM",
        "colab_type": "code",
        "colab": {}
      },
      "source": [
        "input_ = kr.layers.Input(shape=num_movie)\n",
        "hidden1 = kr.layers.Dense(600, activation='relu', kernel_regularizer=kr.regularizers.l2(0.001))(input_)\n",
        "hidden2 = kr.layers.Dense(128, activation='relu', kernel_regularizer=kr.regularizers.l2(0.001))(hidden1)\n",
        "hidden3 = kr.layers.Dense(600, activation='relu', kernel_regularizer=kr.regularizers.l2(0.001))(hidden2)\n",
        "output_ = kr.layers.Dense(num_movie, kernel_regularizer=kr.regularizers.l2(0.01))(hidden3)\n",
        "model = kr.Model(inputs=[input_], outputs=[output_])"
      ],
      "execution_count": 0,
      "outputs": []
    },
    {
      "cell_type": "code",
      "metadata": {
        "id": "qdQWMEtIgFeU",
        "colab_type": "code",
        "colab": {}
      },
      "source": [
        "model.compile(loss=simple_loss, optimizer='adam', metrics=[SimpleMetric(name='rmse'), ])"
      ],
      "execution_count": 0,
      "outputs": []
    },
    {
      "cell_type": "code",
      "metadata": {
        "id": "MfwovmvegV4R",
        "colab_type": "code",
        "colab": {}
      },
      "source": [
        "model.fit(R_train, validation_data=R_test, epochs=100, callbacks=[kr.callbacks.EarlyStopping(monitor='val_loss', patience=3)])"
      ],
      "execution_count": 0,
      "outputs": []
    },
    {
      "cell_type": "code",
      "metadata": {
        "id": "9EpZ-gK6Hzwp",
        "colab_type": "code",
        "outputId": "8cada0ac-90ab-46e3-fb5f-b02cff337ab2",
        "colab": {
          "base_uri": "https://localhost:8080/",
          "height": 34
        }
      },
      "source": [
        "model.evaluate(R_train)"
      ],
      "execution_count": 0,
      "outputs": [
        {
          "output_type": "stream",
          "text": [
            "   4016/Unknown - 113s 28ms/step - loss: 0.9376 - rmse: 0.9223"
          ],
          "name": "stdout"
        },
        {
          "output_type": "execute_result",
          "data": {
            "text/plain": [
              "[0.9375908920964396, 0.9222605]"
            ]
          },
          "metadata": {
            "tags": []
          },
          "execution_count": 26
        }
      ]
    },
    {
      "cell_type": "code",
      "metadata": {
        "id": "90_w-ecqqk3_",
        "colab_type": "code",
        "outputId": "b41582c5-6eb9-4ca1-caae-1e50f3f31ccd",
        "colab": {
          "base_uri": "https://localhost:8080/",
          "height": 34
        }
      },
      "source": [
        "model.evaluate(R_test)"
      ],
      "execution_count": 0,
      "outputs": [
        {
          "output_type": "stream",
          "text": [
            "    313/Unknown - 9s 28ms/step - loss: 0.9437 - rmse: 0.9154"
          ],
          "name": "stdout"
        },
        {
          "output_type": "execute_result",
          "data": {
            "text/plain": [
              "[0.9436552920661414, 0.91538346]"
            ]
          },
          "metadata": {
            "tags": []
          },
          "execution_count": 27
        }
      ]
    },
    {
      "cell_type": "code",
      "metadata": {
        "id": "fos6C1jp_UCQ",
        "colab_type": "code",
        "colab": {}
      },
      "source": [
        "model.save('simple_20m.h5')\n",
        "drive_handler.upload('./simple_20m.h5', parent_path='ml_data')"
      ],
      "execution_count": 0,
      "outputs": []
    },
    {
      "cell_type": "markdown",
      "metadata": {
        "id": "_sdeYVpoHl5w",
        "colab_type": "text"
      },
      "source": [
        "### Denoising model"
      ]
    },
    {
      "cell_type": "code",
      "metadata": {
        "id": "6V8FNSEgkg3h",
        "colab_type": "code",
        "colab": {}
      },
      "source": [
        "input_ = kr.layers.Input(shape=num_movie)\n",
        "dropout = kr.layers.Dropout(0.025)(input_)\n",
        "hidden1 = kr.layers.Dense(600, activation='relu', kernel_regularizer=kr.regularizers.l2(0.001))(dropout)\n",
        "hidden2 = kr.layers.Dense(128, activation='relu', kernel_regularizer=kr.regularizers.l2(0.001))(hidden1)\n",
        "hidden3 = kr.layers.Dense(600, activation='relu', kernel_regularizer=kr.regularizers.l2(0.001))(hidden2)\n",
        "output_ = kr.layers.Dense(num_movie, kernel_regularizer=kr.regularizers.l2(0.001))(hidden3)\n",
        "model_dae = kr.Model(inputs=[input_], outputs=[output_])"
      ],
      "execution_count": 0,
      "outputs": []
    },
    {
      "cell_type": "code",
      "metadata": {
        "id": "BT1RXk-Uk-mX",
        "colab_type": "code",
        "colab": {}
      },
      "source": [
        "model_dae.compile(loss=simple_loss, optimizer='adam', metrics=[SimpleMetric(name='rmse'), ])"
      ],
      "execution_count": 0,
      "outputs": []
    },
    {
      "cell_type": "code",
      "metadata": {
        "id": "UmC0G8qg7ZSs",
        "colab_type": "code",
        "colab": {}
      },
      "source": [
        "history = model_dae.fit(R_train, validation_data=R_test, epochs=100, callbacks=[kr.callbacks.EarlyStopping(monitor='val_loss', patience=3)])"
      ],
      "execution_count": 0,
      "outputs": []
    },
    {
      "cell_type": "code",
      "metadata": {
        "id": "zLEfioQ2H2Ky",
        "colab_type": "code",
        "colab": {
          "base_uri": "https://localhost:8080/",
          "height": 34
        },
        "outputId": "94581872-6118-44c0-d30b-15e93d5a0571"
      },
      "source": [
        "model_dae.evaluate(R_train)"
      ],
      "execution_count": 25,
      "outputs": [
        {
          "output_type": "stream",
          "text": [
            "   4016/Unknown - 89s 22ms/step - loss: 0.9152 - rmse: 0.9058"
          ],
          "name": "stdout"
        },
        {
          "output_type": "execute_result",
          "data": {
            "text/plain": [
              "[0.9152367430854129, 0.9057549]"
            ]
          },
          "metadata": {
            "tags": []
          },
          "execution_count": 25
        }
      ]
    },
    {
      "cell_type": "code",
      "metadata": {
        "id": "gJV08bH17dvN",
        "colab_type": "code",
        "colab": {
          "base_uri": "https://localhost:8080/",
          "height": 34
        },
        "outputId": "867e2a41-737f-4412-f4ff-dcee37345e89"
      },
      "source": [
        "model_dae.evaluate(R_test)"
      ],
      "execution_count": 26,
      "outputs": [
        {
          "output_type": "stream",
          "text": [
            "    313/Unknown - 7s 22ms/step - loss: 0.9255 - rmse: 0.9006"
          ],
          "name": "stdout"
        },
        {
          "output_type": "execute_result",
          "data": {
            "text/plain": [
              "[0.9254574164414939, 0.9005534]"
            ]
          },
          "metadata": {
            "tags": []
          },
          "execution_count": 26
        }
      ]
    },
    {
      "cell_type": "code",
      "metadata": {
        "id": "Nq04f_kfyn9D",
        "colab_type": "code",
        "colab": {
          "base_uri": "https://localhost:8080/",
          "height": 283
        },
        "outputId": "3a6581c8-ac94-4ca1-fc18-e938b57b1535"
      },
      "source": [
        "fig, ax = plt.subplots()\n",
        "ax.plot(history.history['rmse'])\n",
        "ax.set_ylim(0.9, 1)\n",
        "ax.set_ylabel('RMSE')\n",
        "ax.set_xlabel('epoch')\n",
        "ax.set_xlim(0, 100)\n",
        "fig.savefig('./learning_curve.pdf')"
      ],
      "execution_count": 36,
      "outputs": [
        {
          "output_type": "display_data",
          "data": {
            "image/png": "[encoded data removed]",
            "text/plain": [
              "<Figure size 432x288 with 1 Axes>"
            ]
          },
          "metadata": {
            "tags": []
          }
        }
      ]
    },
    {
      "cell_type": "code",
      "metadata": {
        "id": "1ndsYhZSctk8",
        "colab_type": "code",
        "colab": {}
      },
      "source": [
        "model_dae.save('denosing_20m.h5')\n",
        "drive_handler.upload('./denosing_20m.h5', parent_path='ml_data')"
      ],
      "execution_count": 0,
      "outputs": []
    }
  ]
}